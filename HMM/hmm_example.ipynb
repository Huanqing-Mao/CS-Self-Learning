{
 "cells": [
  {
   "cell_type": "code",
   "execution_count": 92,
   "metadata": {},
   "outputs": [],
   "source": [
    "# import the necessary libraries\n",
    "import numpy as np\n",
    "import matplotlib.pyplot as plt\n",
    "import seaborn as sns\n",
    "from hmmlearn import hmm\n"
   ]
  },
  {
   "cell_type": "code",
   "execution_count": 93,
   "metadata": {},
   "outputs": [
    {
     "name": "stdout",
     "output_type": "stream",
     "text": [
      "Number of hidden states : 2\n",
      "Number of observations : 2\n"
     ]
    }
   ],
   "source": [
    "# Define the state space\n",
    "states = [\"Sunny\", \"Rainy\"]\n",
    "n_states = len(states)\n",
    "print('Number of hidden states :',n_states)\n",
    "\n",
    "\n",
    "# Define the observation space\n",
    "observations = [\"Dry\", \"Wet\"]\n",
    "n_observations = len(observations)\n",
    "print('Number of observations :',n_observations)\n"
   ]
  },
  {
   "cell_type": "code",
   "execution_count": 94,
   "metadata": {},
   "outputs": [
    {
     "name": "stdout",
     "output_type": "stream",
     "text": [
      "State probability:  [0.6 0.4]\n",
      "\n",
      "Transition probability:\n",
      " [[0.7 0.3]\n",
      " [0.3 0.7]]\n",
      "\n",
      "Emission probability:\n",
      " [[0.9 0.1]\n",
      " [0.2 0.8]]\n"
     ]
    }
   ],
   "source": [
    "# Define the initial state distribution\n",
    "state_probability = np.array([0.6, 0.4])\n",
    "print(\"State probability: \", state_probability)\n",
    "\n",
    "# Define the state transition probabilities\n",
    "transition_probability = np.array([[0.7, 0.3],\n",
    "\t\t\t\t\t\t\t\t[0.3, 0.7]])\n",
    "print(\"\\nTransition probability:\\n\", transition_probability)\n",
    "# Define the observation likelihoods\n",
    "emission_probability= np.array([[0.9, 0.1],\n",
    "\t\t\t\t\t\t\t\t[0.2, 0.8]])\n",
    "print(\"\\nEmission probability:\\n\", emission_probability)\n"
   ]
  },
  {
   "cell_type": "code",
   "execution_count": 95,
   "metadata": {},
   "outputs": [],
   "source": [
    "model = hmm.CategoricalHMM(n_components=n_states)\n",
    "model.startprob_ = state_probability\n",
    "model.transmat_ = transition_probability\n",
    "model.emissionprob_ = emission_probability\n"
   ]
  },
  {
   "cell_type": "code",
   "execution_count": 96,
   "metadata": {},
   "outputs": [
    {
     "data": {
      "text/plain": [
       "array([[0],\n",
       "       [1],\n",
       "       [0],\n",
       "       [1],\n",
       "       [0],\n",
       "       [0],\n",
       "       [1],\n",
       "       [1],\n",
       "       [0],\n",
       "       [1],\n",
       "       [0]])"
      ]
     },
     "execution_count": 96,
     "metadata": {},
     "output_type": "execute_result"
    }
   ],
   "source": [
    "# Define the sequence of observations\n",
    "observations_sequence = np.array([0, 1, 0, 1, 0, 0, 1, 1, 0, 1, 0]).reshape(-1, 1)\n",
    "observations_sequence\n"
   ]
  },
  {
   "cell_type": "code",
   "execution_count": 97,
   "metadata": {},
   "outputs": [
    {
     "name": "stdout",
     "output_type": "stream",
     "text": [
      "Most likely hidden states: [0 0 0 0 0 0 0 0 0 0 0]\n"
     ]
    }
   ],
   "source": [
    "# Predict the most likely sequence of hidden states\n",
    "hidden_states = model.predict(observations_sequence)\n",
    "print(\"Most likely hidden states:\", hidden_states)\n"
   ]
  },
  {
   "cell_type": "code",
   "execution_count": 98,
   "metadata": {},
   "outputs": [
    {
     "name": "stdout",
     "output_type": "stream",
     "text": [
      "Log Probability : -5.825455913671321\n",
      "Most likely hidden states: [0 0 0 0 0 0 0 0 0 0 0]\n"
     ]
    }
   ],
   "source": [
    "log_probability, hidden_states = model.decode(observations_sequence,\n",
    "\t\t\t\t\t\t\t\t\t\t\tlengths = len(observations_sequence),\n",
    "\t\t\t\t\t\t\t\t\t\t\talgorithm ='viterbi' )\n",
    "\n",
    "print('Log Probability :',log_probability)\n",
    "print(\"Most likely hidden states:\", hidden_states)\n"
   ]
  },
  {
   "cell_type": "markdown",
   "metadata": {},
   "source": [
    "### Example 2"
   ]
  },
  {
   "cell_type": "code",
   "execution_count": 99,
   "metadata": {},
   "outputs": [
    {
     "name": "stdout",
     "output_type": "stream",
     "text": [
      "Most likely hidden states: [0 0 0 0 0 0 0 0]\n"
     ]
    },
    {
     "data": {
      "image/png": "[encoded data removed]",
      "text/plain": [
       "<Figure size 640x480 with 1 Axes>"
      ]
     },
     "metadata": {},
     "output_type": "display_data"
    }
   ],
   "source": [
    "import numpy as np\n",
    "import matplotlib.pyplot as plt\n",
    "import seaborn as sns\n",
    "from hmmlearn import hmm\n",
    "\n",
    "# Define the state space\n",
    "states = [\"Silence\", \"Word1\", \"Word2\", \"Word3\"]\n",
    "n_states = len(states)\n",
    "\n",
    "# Define the observation space\n",
    "observations = [\"Loud\", \"Soft\"]\n",
    "n_observations = len(observations)\n",
    "\n",
    "# Define the initial state distribution\n",
    "start_probability = np.array([0.8, 0.1, 0.1, 0.0])\n",
    "\n",
    "# Define the state transition probabilities\n",
    "transition_probability = np.array([[0.7, 0.2, 0.1, 0.0],\n",
    "\t\t\t\t\t\t\t\t\t[0.0, 0.6, 0.4, 0.0],\n",
    "\t\t\t\t\t\t\t\t\t[0.0, 0.0, 0.6, 0.4],\n",
    "\t\t\t\t\t\t\t\t\t[0.0, 0.0, 0.0, 1.0]])\n",
    "\n",
    "# Define the observation likelihoods\n",
    "emission_probability = np.array([[0.7, 0.3],\n",
    "\t\t\t\t\t\t\t\t[0.4, 0.6],\n",
    "\t\t\t\t\t\t\t\t[0.6, 0.4],\n",
    "\t\t\t\t\t\t\t\t[0.3, 0.7]])\n",
    "\n",
    "# Fit the model\n",
    "model = hmm.CategoricalHMM(n_components=n_states)\n",
    "model.startprob_ = start_probability\n",
    "model.transmat_ = transition_probability\n",
    "model.emissionprob_ = emission_probability\n",
    "\n",
    "# Define the sequence of observations\n",
    "observations_sequence = np.array([0, 1, 0, 0, 1, 1, 0, 1]).reshape(-1, 1)\n",
    "\n",
    "# Predict the most likely hidden states\n",
    "hidden_states = model.predict(observations_sequence)\n",
    "print(\"Most likely hidden states:\", hidden_states)\n",
    "\n",
    "# Plot the results\n",
    "sns.set_style(\"darkgrid\")\n",
    "plt.plot(hidden_states, '-o', label=\"Hidden State\")\n",
    "plt.legend()\n",
    "plt.show()\n"
   ]
  }
 ],
 "metadata": {
  "kernelspec": {
   "display_name": "Python 3",
   "language": "python",
   "name": "python3"
  },
  "language_info": {
   "codemirror_mode": {
    "name": "ipython",
    "version": 3
   },
   "file_extension": ".py",
   "mimetype": "text/x-python",
   "name": "python",
   "nbconvert_exporter": "python",
   "pygments_lexer": "ipython3",
   "version": "3.12.4"
  }
 },
 "nbformat": 4,
 "nbformat_minor": 2
}
